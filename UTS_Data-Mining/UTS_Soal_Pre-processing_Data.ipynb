{
 "cells": [
  {
   "cell_type": "code",
   "execution_count": 51,
   "id": "447a6b2c-c9d3-4ef9-805a-52269eb5c95f",
   "metadata": {},
   "outputs": [],
   "source": [
    "import pandas as pd\n",
    "\n",
    "from sklearn.preprocessing import StandardScaler"
   ]
  },
  {
   "cell_type": "code",
   "execution_count": 2,
   "id": "d3546dce-f196-4e6f-b789-2ec53fa2d1b2",
   "metadata": {},
   "outputs": [],
   "source": [
    "data_startup = pd.read_csv('50_Startups.csv')"
   ]
  },
  {
   "cell_type": "code",
   "execution_count": 7,
   "id": "06782acb-8e30-4707-9689-6411b55f553a",
   "metadata": {},
   "outputs": [
    {
     "data": {
      "text/html": [
       "<div>\n",
       "<style scoped>\n",
       "    .dataframe tbody tr th:only-of-type {\n",
       "        vertical-align: middle;\n",
       "    }\n",
       "\n",
       "    .dataframe tbody tr th {\n",
       "        vertical-align: top;\n",
       "    }\n",
       "\n",
       "    .dataframe thead th {\n",
       "        text-align: right;\n",
       "    }\n",
       "</style>\n",
       "<table border=\"1\" class=\"dataframe\">\n",
       "  <thead>\n",
       "    <tr style=\"text-align: right;\">\n",
       "      <th></th>\n",
       "      <th>R&amp;D Spend</th>\n",
       "      <th>Administration</th>\n",
       "      <th>Marketing Spend</th>\n",
       "      <th>State</th>\n",
       "      <th>Profit</th>\n",
       "    </tr>\n",
       "  </thead>\n",
       "  <tbody>\n",
       "    <tr>\n",
       "      <th>0</th>\n",
       "      <td>165349.20</td>\n",
       "      <td>136897.80</td>\n",
       "      <td>471784.10</td>\n",
       "      <td>New York</td>\n",
       "      <td>192261.83</td>\n",
       "    </tr>\n",
       "    <tr>\n",
       "      <th>36</th>\n",
       "      <td>28663.76</td>\n",
       "      <td>127056.21</td>\n",
       "      <td>201126.82</td>\n",
       "      <td>Florida</td>\n",
       "      <td>90708.19</td>\n",
       "    </tr>\n",
       "    <tr>\n",
       "      <th>8</th>\n",
       "      <td>120542.52</td>\n",
       "      <td>148718.95</td>\n",
       "      <td>311613.29</td>\n",
       "      <td>New York</td>\n",
       "      <td>152211.77</td>\n",
       "    </tr>\n",
       "    <tr>\n",
       "      <th>4</th>\n",
       "      <td>142107.34</td>\n",
       "      <td>91391.77</td>\n",
       "      <td>366168.42</td>\n",
       "      <td>Florida</td>\n",
       "      <td>166187.94</td>\n",
       "    </tr>\n",
       "    <tr>\n",
       "      <th>23</th>\n",
       "      <td>NaN</td>\n",
       "      <td>105751.03</td>\n",
       "      <td>NaN</td>\n",
       "      <td>Florida</td>\n",
       "      <td>108733.99</td>\n",
       "    </tr>\n",
       "    <tr>\n",
       "      <th>38</th>\n",
       "      <td>20229.59</td>\n",
       "      <td>65947.93</td>\n",
       "      <td>NaN</td>\n",
       "      <td>New York</td>\n",
       "      <td>81229.06</td>\n",
       "    </tr>\n",
       "    <tr>\n",
       "      <th>7</th>\n",
       "      <td>130298.13</td>\n",
       "      <td>NaN</td>\n",
       "      <td>323876.68</td>\n",
       "      <td>Florida</td>\n",
       "      <td>155752.60</td>\n",
       "    </tr>\n",
       "  </tbody>\n",
       "</table>\n",
       "</div>"
      ],
      "text/plain": [
       "    R&D Spend  Administration  Marketing Spend     State     Profit\n",
       "0   165349.20       136897.80        471784.10  New York  192261.83\n",
       "36   28663.76       127056.21        201126.82   Florida   90708.19\n",
       "8   120542.52       148718.95        311613.29  New York  152211.77\n",
       "4   142107.34        91391.77        366168.42   Florida  166187.94\n",
       "23        NaN       105751.03              NaN   Florida  108733.99\n",
       "38   20229.59        65947.93              NaN  New York   81229.06\n",
       "7   130298.13             NaN        323876.68   Florida  155752.60"
      ]
     },
     "execution_count": 7,
     "metadata": {},
     "output_type": "execute_result"
    }
   ],
   "source": [
    "data_startup.sample(7)"
   ]
  },
  {
   "cell_type": "code",
   "execution_count": 45,
   "id": "467fab6c-03b8-4b7b-94ac-034aa2490b1b",
   "metadata": {},
   "outputs": [
    {
     "name": "stdout",
     "output_type": "stream",
     "text": [
      "     R&D Spend  Administration  Marketing Spend       State     Profit\n",
      "23   76788.862       105751.03    223582.690222     Florida  108733.99\n",
      "4   142107.340        91391.77    366168.420000     Florida  166187.94\n",
      "43   15505.730       127382.30     35534.170000    New York   69758.98\n",
      "15  114523.610       122616.84    261776.230000    New York  129917.04\n",
      "41   27892.920        84710.77    164470.710000     Florida   77798.83\n",
      "44   22177.740       154806.14     28334.720000  California   65200.33\n",
      "40   28754.330       118546.05    172795.670000  California   78239.91\n",
      "38   20229.590        65947.93    223582.690222    New York   81229.06\n",
      "25   64664.710       139553.16    137962.620000  California  107404.34\n",
      "2   153441.510       101145.55    407934.540000     Florida  191050.39\n"
     ]
    }
   ],
   "source": [
    "#1 Lakukan analisa mengenai field mana saja yang memiliki data kosong(Nan) lalu Isi data yang kosong tersebut menggunakan nilai mean\n",
    "\n",
    "# Menemukan kolom yang memiliki data kosong (NaN)\n",
    "missing_data_columns = data_startup.columns[data_startup.isnull().any()].tolist()\n",
    "\n",
    "# Menghitung nilai mean untuk setiap kolom yang memiliki data kosong\n",
    "mean_values = {column: data_startup[column].mean() for column in missing_data_columns}\n",
    "\n",
    "# Mengisi data kosong dengan nilai mean\n",
    "data_startup.fillna(mean_values, inplace=True)\n",
    "\n",
    "# Menampilkan hasil pre-processing\n",
    "print(data_startup.sample(10))"
   ]
  },
  {
   "cell_type": "code",
   "execution_count": 49,
   "id": "552d54cc-0242-4049-b1de-9e22f6ba58d8",
   "metadata": {},
   "outputs": [
    {
     "name": "stdout",
     "output_type": "stream",
     "text": [
      "     R&D Spend  Administration  Marketing Spend         Profit  \\\n",
      "47   76788.862   135426.920000    223582.690222   42559.730000   \n",
      "31   76788.862   152701.920000     88218.230000  111850.855208   \n",
      "40   28754.330   118546.050000    172795.670000   78239.910000   \n",
      "48     542.050    51743.150000    223582.690222   35673.410000   \n",
      "15  114523.610   122616.840000    261776.230000  129917.040000   \n",
      "35   46014.020    85047.440000    205517.640000   96479.510000   \n",
      "18   91749.160   114175.790000    294919.570000  124266.900000   \n",
      "24   77044.010   122790.158298    140574.810000  108552.040000   \n",
      "34   46426.070   157693.920000    210797.670000   96712.800000   \n",
      "3   144372.410   118671.850000    383199.620000  182901.990000   \n",
      "\n",
      "    State_California  State_Florida  State_New York  \n",
      "47              True          False           False  \n",
      "31             False          False            True  \n",
      "40              True          False           False  \n",
      "48             False          False            True  \n",
      "15             False          False            True  \n",
      "35             False          False            True  \n",
      "18             False           True           False  \n",
      "24             False          False            True  \n",
      "34              True          False           False  \n",
      "3              False          False            True  \n"
     ]
    }
   ],
   "source": [
    "#2 lakukan oneHotEncoder ke field state\n",
    "\n",
    "# Melakukan one-hot encoding pada kolom 'State'\n",
    "data_encoded = pd.get_dummies(data_startup, columns=['State'])\n",
    "\n",
    "# Menampilkan hasil encoding\n",
    "print(data_encoded.sample(10))"
   ]
  },
  {
   "cell_type": "code",
   "execution_count": 50,
   "id": "ea7dddd7-bbda-4e56-9ae2-ad660e86b112",
   "metadata": {},
   "outputs": [
    {
     "name": "stdout",
     "output_type": "stream",
     "text": [
      "     R&D Spend  Administration  Marketing Spend       State         Profit  \\\n",
      "41   27892.920        84710.77        164470.71     Florida   77798.830000   \n",
      "8   120542.520       148718.95        311613.29    New York  152211.770000   \n",
      "32   63408.860       129219.61         46085.25  California   97427.840000   \n",
      "31   76788.862       152701.92         88218.23    New York  111850.855208   \n",
      "12   93863.750       127320.38        249839.44     Florida  141585.520000   \n",
      "6   134615.460       147198.87        127716.82  California  156122.510000   \n",
      "20   76253.860       113867.30        298664.47  California  118474.030000   \n",
      "30   61994.480       115641.28         91131.24     Florida   99937.590000   \n",
      "9   123334.880       108679.17        304981.62  California  149759.960000   \n",
      "13   91992.390       135495.07        252664.93  California  111850.855208   \n",
      "\n",
      "            Tax  \n",
      "41  16349.01550  \n",
      "8   30627.20050  \n",
      "32  13636.63500  \n",
      "31  17638.55026  \n",
      "12  25937.26700  \n",
      "6   21551.91000  \n",
      "20  26550.29000  \n",
      "30  15335.50550  \n",
      "9   28171.03750  \n",
      "13  25000.54276  \n"
     ]
    }
   ],
   "source": [
    "#3 buat field baru yaitu Tax. dimana Tax = (profit + Marketing Spend + administration) * 5%\n",
    "\n",
    "# Menghitung Tax berdasarkan rumus yang diberikan\n",
    "data_startup['Tax'] = (data_startup['Profit'] + data_startup['Marketing Spend'] + data_startup['Administration']) * 0.05\n",
    "\n",
    "# Menampilkan hasil dengan kolom Tax baru\n",
    "print(data_startup.sample(10))"
   ]
  },
  {
   "cell_type": "code",
   "execution_count": 57,
   "id": "09221b36-0ab3-47c2-a311-4ab46b237659",
   "metadata": {},
   "outputs": [
    {
     "name": "stdout",
     "output_type": "stream",
     "text": [
      "       R&D Spend  Administration  Marketing Spend       State    Profit  \\\n",
      "17  4.189331e-01    8.757175e-01     5.464771e-01    New York  0.340346   \n",
      "26 -3.423040e-02    8.387201e-01    -8.293979e-01     Florida -0.154000   \n",
      "36 -1.128322e+00    1.676217e-01    -2.080231e-01     Florida -0.532254   \n",
      "43 -1.436820e+00    1.804345e-01    -1.742014e+00    New York -1.059638   \n",
      "28 -2.517435e-01    2.351839e+00    -9.767071e-01     Florida -0.215706   \n",
      "4   1.531431e+00   -1.233706e+00     1.320863e+00     Florida  1.367903   \n",
      "16  2.870324e-02   -4.685997e-02     3.776171e-01  California  0.381193   \n",
      "38 -1.326067e+00   -2.233445e+00     1.687539e-16    New York -0.770885   \n",
      "24  5.982100e-03    1.337728e-16    -7.689550e-01    New York -0.083046   \n",
      "49 -1.232190e-16   -2.281435e-01    -1.652722e+00  California -2.446183   \n",
      "\n",
      "         Tax  \n",
      "17  0.680713  \n",
      "26 -0.533550  \n",
      "36 -0.282432  \n",
      "43 -1.619579  \n",
      "28 -0.388814  \n",
      "4   1.188570  \n",
      "16  0.392873  \n",
      "38 -0.628047  \n",
      "24 -0.619737  \n",
      "49 -2.020525  \n"
     ]
    }
   ],
   "source": [
    "#4 Jalankan standardScaler field-field tersebut\n",
    "\n",
    "# Mengambil kolom numerik untuk scaling\n",
    "numeric_columns = data_startup.select_dtypes(include=['float64', 'int64']).columns\n",
    "\n",
    "# Inisialisasi StandardScaler\n",
    "scaler = StandardScaler()\n",
    "\n",
    "# Fitting dan transformasi data\n",
    "data_startup[numeric_columns] = scaler.fit_transform(data_startup[numeric_columns])\n",
    "\n",
    "# Menampilkan hasil scaling\n",
    "print(data_startup.sample(10))"
   ]
  },
  {
   "cell_type": "code",
   "execution_count": null,
   "id": "39f09899-f5bb-4b76-8e0c-0c64481bbdd5",
   "metadata": {},
   "outputs": [],
   "source": []
  }
 ],
 "metadata": {
  "kernelspec": {
   "display_name": "Python 3 (ipykernel)",
   "language": "python",
   "name": "python3"
  },
  "language_info": {
   "codemirror_mode": {
    "name": "ipython",
    "version": 3
   },
   "file_extension": ".py",
   "mimetype": "text/x-python",
   "name": "python",
   "nbconvert_exporter": "python",
   "pygments_lexer": "ipython3",
   "version": "3.11.7"
  }
 },
 "nbformat": 4,
 "nbformat_minor": 5
}
